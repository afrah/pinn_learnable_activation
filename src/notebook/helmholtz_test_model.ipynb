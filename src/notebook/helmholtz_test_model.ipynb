{
  "cells": [
    {
      "cell_type": "markdown",
      "metadata": {},
      "source": [
        "# Test Helmholtz Model\n"
      ]
    },
    {
      "cell_type": "code",
      "execution_count": 1,
      "metadata": {},
      "outputs": [],
      "source": [
        "%load_ext autoreload\n",
        "%autoreload 2"
      ]
    },
    {
      "cell_type": "code",
      "execution_count": 10,
      "metadata": {},
      "outputs": [],
      "source": [
        "import os\n",
        "import sys\n",
        "import torch\n",
        "import gc\n",
        "import numpy as np"
      ]
    },
    {
      "cell_type": "markdown",
      "metadata": {},
      "source": [
        "Import local packages"
      ]
    },
    {
      "cell_type": "code",
      "execution_count": 11,
      "metadata": {},
      "outputs": [],
      "source": [
        "PROJECT_ROOT = os.path.abspath(os.path.join(os.getcwd(), \"../..\"))\n",
        "\n",
        "if PROJECT_ROOT not in sys.path:\n",
        "    sys.path.insert(0, PROJECT_ROOT)\n",
        "\n",
        "from src.utils.logger import Logging\n",
        "from src.data.helmholtz_dataset import generate_training_dataset, u, f\n",
        "from src.nn.pde import helmholtz_operator"
      ]
    },
    {
      "cell_type": "markdown",
      "metadata": {},
      "source": [
        "Set various constant variables: model path, name, etc. We choose the best performing models from each architecture."
      ]
    },
    {
      "cell_type": "code",
      "execution_count": 16,
      "metadata": {},
      "outputs": [],
      "source": [
        "TANH_NORM_DIST = \"../../model/a1/helmholtz_tanh_normal_a1.pth\"\n",
        "TANH_PARAM_DIST = \"../../model/a2/helmholtz_tanh_trainable_a2.pth\"\n",
        "BSPLINE_DIST = \"../../model/a1/helmholtz_bspline_a1.pth\"\n",
        "GRBF_DIST = \"../../model/a2/helmholtz_grbf_a2.pth\"\n",
        "FOURIER_DIST = \"../../model/a1/helmholtz_fourier_a1.pth\"\n",
        "CHEBTSHEV_DIST = \"../../model/a1/helmholtz_chebyshev_a1.pth\"\n",
        "JACOBI_DIST = \"../../model/a1/helmholtz_jacobi_a1.pth\"\n",
        "\n",
        "\n",
        "MODEL_PATH_LIST = {\n",
        "    \"tanh\": TANH_NORM_DIST,\n",
        "    \"param_tanh\": TANH_PARAM_DIST,\n",
        "    \"grbf\": GRBF_DIST,\n",
        "    \"bspline\": BSPLINE_DIST,\n",
        "    \"chebyshev\": CHEBTSHEV_DIST,\n",
        "    \"jacobi\": JACOBI_DIST,\n",
        "    \"fourier\": FOURIER_DIST,\n",
        "}\n",
        "\n",
        "SOLVER_TO_MODULE = {\n",
        "    \"KAN_GRBF\": \"src.nn.grbf\",\n",
        "    \"jacobi\": \"src.nn.jacobi\",\n",
        "    \"bspline\": \"src.nn.bspline\",\n",
        "    \"chebyshev\": \"src.nn.chebyshev\",\n",
        "    \"MLP\": \"src.nn.tanh_parameterized\",\n",
        "    \"tanh\": \"src.nn.tanh\",\n",
        "    \"fourier\": \"src.nn.fourier\",\n",
        "}"
      ]
    },
    {
      "cell_type": "code",
      "execution_count": 15,
      "metadata": {},
      "outputs": [],
      "source": [
        "TEST_CHECKPOINT_PATH = os.path.join(PROJECT_ROOT, \"result/helmholtz\")\n",
        "logger = Logging(TEST_CHECKPOINT_PATH)\n",
        "result_dir = logger.get_output_dir()"
      ]
    },
    {
      "cell_type": "markdown",
      "metadata": {},
      "source": [
        "## Generate Testing Dataset"
      ]
    },
    {
      "cell_type": "code",
      "execution_count": 7,
      "metadata": {},
      "outputs": [
        {
          "name": "stderr",
          "output_type": "stream",
          "text": [
            "/home/ubuntu/miniconda3/envs/pytorch-2.3.1-corona-pinn/lib/python3.9/site-packages/torch/functional.py:512: UserWarning: torch.meshgrid: in an upcoming release, it will be required to pass the indexing argument. (Triggered internally at /opt/conda/conda-bld/pytorch_1716905969824/work/aten/src/ATen/native/TensorShape.cpp:3587.)\n",
            "  return _VF.meshgrid(tensors, **kwargs)  # type: ignore[attr-defined]\n",
            "INFO:src.utils.logger:Output directory result_dir='/home/ubuntu/afrah/code/pinn_learnable_activation/result/helmholtz/2024-10-05_16-12-36-165005'\n"
          ]
        }
      ],
      "source": [
        "A1 = 1\n",
        "A2 = 4\n",
        "LAMBDA = 1.0\n",
        "\n",
        "dom_coords = torch.tensor([[-1.0, -1.0], [1.0, 1.0]], dtype=torch.float32).to(\"cpu\")\n",
        "\n",
        "\n",
        "[bcs_sampler, res_sampler] = generate_training_dataset(\"cpu\")\n",
        "\n",
        "# Test data\n",
        "numer_of_points = 100\n",
        "\n",
        "\n",
        "t = (\n",
        "    torch.linspace(dom_coords[0, 0], dom_coords[1, 0], numer_of_points)\n",
        "    .to(\"cpu\")\n",
        "    .unsqueeze(1)\n",
        ")\n",
        "x = (\n",
        "    torch.linspace(dom_coords[0, 1], dom_coords[1, 1], numer_of_points)\n",
        "    .to(\"cpu\")\n",
        "    .unsqueeze(1)\n",
        ")\n",
        "t, x = torch.meshgrid(t.squeeze(), x.squeeze())\n",
        "X_star = torch.hstack((t.flatten().unsqueeze(1), x.flatten().unsqueeze(1))).to(\"cpu\")\n",
        "\n",
        "# Exact solution\n",
        "u_star = u(X_star, A1, A2)\n",
        "f_star = f(X_star, A1, A2, LAMBDA)\n",
        "\n",
        "\n",
        "logger.print(f\"Output directory {result_dir=}\")"
      ]
    },
    {
      "cell_type": "markdown",
      "metadata": {},
      "source": [
        "## Load the saved models, Test and Print Prediction Accuracy"
      ]
    },
    {
      "cell_type": "code",
      "execution_count": 14,
      "metadata": {},
      "outputs": [
        {
          "name": "stderr",
          "output_type": "stream",
          "text": [
            "INFO:src.utils.logger:MODEL_PATH ../../model/a1/helmholtz_tanh_normal_a1.pth\n",
            "INFO:src.utils.logger:activation:  , None\n",
            "INFO:src.utils.logger:problem: helmholtz\n"
          ]
        },
        {
          "name": "stderr",
          "output_type": "stream",
          "text": [
            "INFO:src.utils.logger:solver:  , tanh\n",
            "INFO:src.utils.logger:network:  , [2, 30, 30, 30, 1]\n",
            "INFO:src.utils.logger:term loss weights :  , [10.0, 1.0]\n",
            "INFO:src.utils.logger:Model tanh with iterations: 60001\n",
            "INFO:src.utils.logger:Relative L2 error_u: 6.13e+00\n",
            "INFO:src.utils.logger:Relative L2 error_f: 3.09e+00\n",
            "INFO:src.utils.logger:Final loss lbcs: 6.601419e-03\n",
            "INFO:src.utils.logger:Final loss lphy: 4.367668e+00\n",
            "INFO:src.utils.logger:******************************\n",
            "\n",
            "INFO:src.utils.logger:MODEL_PATH ../../model/a2/helmholtz_tanh_trainable_a2.pth\n",
            "INFO:src.utils.logger:activation:  , tanh\n",
            "INFO:src.utils.logger:problem: None\n",
            "INFO:src.utils.logger:solver:  , MLP\n",
            "INFO:src.utils.logger:network:  , [2, 300, 300, 300, 1]\n",
            "INFO:src.utils.logger:term loss weights :  , [10.0, 1.0]\n",
            "INFO:src.utils.logger:Model param_tanh with iterations: 60001\n",
            "INFO:src.utils.logger:Relative L2 error_u: 4.46e+00\n",
            "INFO:src.utils.logger:Relative L2 error_f: 9.38e-01\n",
            "INFO:src.utils.logger:Final loss lbcs: 3.098755e-03\n",
            "INFO:src.utils.logger:Final loss lphy: 2.385973e-01\n",
            "INFO:src.utils.logger:******************************\n",
            "\n",
            "INFO:src.utils.logger:MODEL_PATH ../../model/a2/helmholtz_grbf_a2.pth\n",
            "INFO:src.utils.logger:activation:  , KAN_GRBF\n",
            "INFO:src.utils.logger:problem: None\n",
            "INFO:src.utils.logger:solver:  , KAN_GRBF\n",
            "INFO:src.utils.logger:network:  , [2, 300, 300, 300, 1]\n",
            "INFO:src.utils.logger:term loss weights :  , [10.0, 1.0]\n",
            "INFO:src.utils.logger:Model grbf with iterations: 60001\n",
            "INFO:src.utils.logger:Relative L2 error_u: 7.91e+00\n",
            "INFO:src.utils.logger:Relative L2 error_f: 2.97e+00\n",
            "INFO:src.utils.logger:Final loss lbcs: 2.132118e-02\n",
            "INFO:src.utils.logger:Final loss lphy: 2.743704e+00\n",
            "INFO:src.utils.logger:******************************\n",
            "\n",
            "INFO:src.utils.logger:MODEL_PATH ../../model/a1/helmholtz_bspline_a1.pth\n",
            "INFO:src.utils.logger:activation:  , None\n",
            "INFO:src.utils.logger:problem: helmholtz\n",
            "INFO:src.utils.logger:solver:  , bspline\n",
            "INFO:src.utils.logger:network:  , [2, 30, 30, 30, 1]\n",
            "INFO:src.utils.logger:term loss weights :  , [10.0, 1.0]\n",
            "INFO:src.utils.logger:Model bspline with iterations: 60001\n",
            "INFO:src.utils.logger:Relative L2 error_u: 1.93e+00\n",
            "INFO:src.utils.logger:Relative L2 error_f: 9.21e-01\n",
            "INFO:src.utils.logger:Final loss lbcs: 1.482371e-03\n",
            "INFO:src.utils.logger:Final loss lphy: 6.081115e-01\n",
            "INFO:src.utils.logger:******************************\n",
            "\n",
            "INFO:src.utils.logger:MODEL_PATH ../../model/a1/helmholtz_chebyshev_a1.pth\n",
            "INFO:src.utils.logger:activation:  , None\n",
            "INFO:src.utils.logger:problem: helmholtz\n",
            "INFO:src.utils.logger:solver:  , chebyshev\n",
            "INFO:src.utils.logger:network:  , [2, 30, 30, 30, 1]\n",
            "INFO:src.utils.logger:term loss weights :  , [10.0, 1.0]\n",
            "INFO:src.utils.logger:Model chebyshev with iterations: 60001\n",
            "INFO:src.utils.logger:Relative L2 error_u: 5.17e+00\n",
            "INFO:src.utils.logger:Relative L2 error_f: 1.37e+00\n",
            "INFO:src.utils.logger:Final loss lbcs: 2.805843e-03\n",
            "INFO:src.utils.logger:Final loss lphy: 8.291228e-01\n",
            "INFO:src.utils.logger:******************************\n",
            "\n",
            "INFO:src.utils.logger:MODEL_PATH ../../model/a1/helmholtz_jacobi_a1.pth\n",
            "INFO:src.utils.logger:activation:  , None\n",
            "INFO:src.utils.logger:problem: helmholtz\n",
            "INFO:src.utils.logger:solver:  , jacobi\n",
            "INFO:src.utils.logger:network:  , [2, 30, 30, 30, 1]\n",
            "INFO:src.utils.logger:term loss weights :  , [10.0, 1.0]\n",
            "INFO:src.utils.logger:Model jacobi with iterations: 60001\n",
            "INFO:src.utils.logger:Relative L2 error_u: 1.95e+01\n",
            "INFO:src.utils.logger:Relative L2 error_f: 2.01e+00\n",
            "INFO:src.utils.logger:Final loss lbcs: 2.262197e-02\n",
            "INFO:src.utils.logger:Final loss lphy: 2.918169e+00\n",
            "INFO:src.utils.logger:******************************\n",
            "\n",
            "INFO:src.utils.logger:MODEL_PATH ../../model/a1/helmholtz_fourier_a1.pth\n",
            "INFO:src.utils.logger:activation:  , None\n",
            "INFO:src.utils.logger:problem: helmholtz\n",
            "INFO:src.utils.logger:solver:  , fourier\n",
            "INFO:src.utils.logger:network:  , [2, 30, 30, 30, 1]\n",
            "INFO:src.utils.logger:term loss weights :  , [10.0, 1.0]\n",
            "INFO:src.utils.logger:Model fourier with iterations: 60001\n",
            "INFO:src.utils.logger:Relative L2 error_u: 3.09e+00\n",
            "INFO:src.utils.logger:Relative L2 error_f: 1.18e+00\n",
            "INFO:src.utils.logger:Final loss lbcs: 2.689228e-03\n",
            "INFO:src.utils.logger:Final loss lphy: 1.031223e+00\n",
            "INFO:src.utils.logger:******************************\n",
            "\n",
            "INFO:src.utils.logger:file directory:\n",
            "INFO:src.utils.logger:/home/ubuntu/afrah/code/pinn_learnable_activation/result/helmholtz/2024-10-05_16-12-36-165005\n"
          ]
        }
      ],
      "source": [
        "for activation, model_path in MODEL_PATH_LIST.items():\n",
        "    logger.print(f\"MODEL_PATH {model_path}\")\n",
        "    # Load the state from the saved model\n",
        "    state = torch.load(\n",
        "        model_path,\n",
        "    )\n",
        "    config = state.get(\"config\", {})\n",
        "    solver = config.get(\"solver\")\n",
        "\n",
        "    # Extract model configuration from state\n",
        "    model_activation_name = config.get(\"activation\")\n",
        "    model_architecture = config.get(\"network\")\n",
        "    loss_dict = state.get(\"loss_history\")\n",
        "    # Dynamically import the correct module and class\n",
        "    if solver in SOLVER_TO_MODULE:\n",
        "        module = __import__(SOLVER_TO_MODULE[solver], fromlist=[\"PINNKAN\"])\n",
        "        PINNKAN = getattr(module, \"PINNKAN\")\n",
        "\n",
        "        # Initialize fluid and solid models\n",
        "        model = PINNKAN(model_architecture, model_activation_name).to(\"cpu\")\n",
        "\n",
        "    model.load_state_dict(state[\"model_state_dict\"])\n",
        "\n",
        "    logger.print(f\"activation:  , {model_activation_name}\")\n",
        "    logger.print(f\"problem: {config.get('problem')}\")\n",
        "    logger.print(f\"solver:  , {solver}\")\n",
        "    logger.print(f\"network:  , {config.get('network')}\")\n",
        "    logger.print(f\"term loss weights :  , {config.get('weights')}\")\n",
        "\n",
        "    [u_pred, f_pred] = helmholtz_operator(model, X_star[:, 0:1], X_star[:, 1:2])\n",
        "    if u_pred.is_cuda:\n",
        "        u_pred = u_pred.cpu()\n",
        "        f_pred = f_pred.cpu()\n",
        "\n",
        "    logger.print(\n",
        "        f\"Model {activation} with iterations: {len(loss_dict[next(iter(loss_dict))])}\"\n",
        "    )\n",
        "\n",
        "    X_analytic = X_star.detach().numpy()\n",
        "    u_analytic = u_star.detach().numpy()\n",
        "    f_analytic = f_star.detach().numpy()\n",
        "    u_pred = u_pred.detach().numpy()\n",
        "    f_pred = f_pred.detach().numpy()\n",
        "\n",
        "    error_u = (\n",
        "        np.linalg.norm(u_analytic - u_pred, 2) / np.linalg.norm(u_analytic, 2)\n",
        "    ) * 100.0\n",
        "    error_f = (\n",
        "        np.linalg.norm(f_analytic - f_pred, 2) / np.linalg.norm(f_analytic + 1e-9, 2)\n",
        "    ) * 100.0\n",
        "\n",
        "    logger.print(\"Relative L2 error_u: {:.2e}\".format(error_u))\n",
        "    logger.print(\"Relative L2 error_f: {:.2e}\".format(error_f))\n",
        "\n",
        "    for key in loss_dict:\n",
        "        logger.print(\"Final loss %s: %e\" % (key, loss_dict[key][-1]))\n",
        "\n",
        "    logger.print(\"******************************\\n\")\n",
        "    del model\n",
        "    gc.collect()\n",
        "    torch.cuda.empty_cache()\n",
        "logger.print(\"file directory:\", logger.get_output_dir())"
      ]
    }
  ],
  "metadata": {
    "kernelspec": {
      "display_name": "pytorch-2.3.1-corona-pinn",
      "language": "python",
      "name": "python3"
    },
    "language_info": {
      "codemirror_mode": {
        "name": "ipython",
        "version": 3
      },
      "file_extension": ".py",
      "mimetype": "text/x-python",
      "name": "python",
      "nbconvert_exporter": "python",
      "pygments_lexer": "ipython3",
      "version": "3.9.19"
    }
  },
  "nbformat": 4,
  "nbformat_minor": 2
}
