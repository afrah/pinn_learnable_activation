{
  "cells": [
    {
      "cell_type": "markdown",
      "metadata": {},
      "source": [
        "# Training Cavity Model\n",
        "\n"
      ]
    },
    {
      "cell_type": "code",
      "execution_count": 25,
      "metadata": {},
      "outputs": [
        {
          "name": "stdout",
          "output_type": "stream",
          "text": [
            "The autoreload extension is already loaded. To reload it, use:\n",
            "  %reload_ext autoreload\n"
          ]
        }
      ],
      "source": [
        "%load_ext autoreload\n",
        "%autoreload 2"
      ]
    },
    {
      "cell_type": "code",
      "execution_count": 3,
      "metadata": {},
      "outputs": [],
      "source": [
        "import sys\n",
        "import os\n",
        "import torch\n",
        "import numpy as np\n",
        "import gc\n",
        "\n",
        "import h5py\n",
        "import pandas as pd\n",
        "from matplotlib import pyplot as plt"
      ]
    },
    {
      "cell_type": "markdown",
      "metadata": {},
      "source": [
        "Import local packages"
      ]
    },
    {
      "cell_type": "code",
      "execution_count": 4,
      "metadata": {},
      "outputs": [],
      "source": [
        "from src.utils.logger import Logging\n",
        "from src.utils.utils import lp_error\n",
        "from src.utils.logger import Logging\n",
        "\n",
        "from src.utils.plot_loss import plot_loss_history"
      ]
    },
    {
      "cell_type": "markdown",
      "metadata": {},
      "source": [
        "Set various constant variables: model path, name, etc."
      ]
    },
    {
      "cell_type": "code",
      "execution_count": 5,
      "metadata": {},
      "outputs": [],
      "source": [
        "TEST_CHECKPOINT_PATH = \"./checkpoint\"\n",
        "logger = Logging(TEST_CHECKPOINT_PATH)\n",
        "model_dirname = logger.get_output_dir()\n",
        "\n",
        "local_rank = 0\n",
        "world_size = 1"
      ]
    },
    {
      "cell_type": "markdown",
      "metadata": {},
      "source": [
        "## Load the Model and Test"
      ]
    },
    {
      "cell_type": "code",
      "execution_count": 6,
      "metadata": {},
      "outputs": [],
      "source": [
        "TEST_DATA_PKL = \"./data/cavity.mat\"\n",
        "data = h5py.File(TEST_DATA_PKL, \"r\")  # load dataset from matlab\n",
        "\n",
        "domain = pd.DataFrame(data[\"cavity_internal\"]).T.to_numpy()\n",
        "\n",
        "#  t = tf.reshape(tstep,N_data)[:,0].T\n",
        "time_ = domain[:, 0:1]\n",
        "xfa = domain[:, 1:2]\n",
        "yfa = domain[:, 2:3]\n",
        "ufa = domain[:, 3:4]\n",
        "vfa = domain[:, 4:5]\n",
        "pfa = domain[:, 5:6]"
      ]
    },
    {
      "cell_type": "code",
      "execution_count": 26,
      "metadata": {},
      "outputs": [],
      "source": [
        "config = {\n",
        "    \"problem\": \"cavity\",\n",
        "    \"dataset_path\": \"./data/cavity.mat\",\n",
        "    \"batch_size\": 128,\n",
        "    \"total_epochs\": 1000,\n",
        "    \"activation\": \"tanh\",\n",
        "    \"network\": [3, 10, 10, 3],\n",
        "    \"weights\": [4, 4, 2, 2, 2, 0.1],\n",
        "    \"log_path\": TEST_CHECKPOINT_PATH,\n",
        "    \"loss_list\": [\"lleft\", \"lright\", \"lbottom\", \"lup\", \"linitial\", \"lphy\"],\n",
        "    \"solver\": \"tanh\",\n",
        "    \"print_every\": 100,\n",
        "    \"save_every\": 1000,\n",
        "}"
      ]
    },
    {
      "cell_type": "code",
      "execution_count": 27,
      "metadata": {},
      "outputs": [
        {
          "name": "stderr",
          "output_type": "stream",
          "text": [
            "INFO:src.utils.logger:checkpoint path: self.log_path='./checkpoint/2025-05-24_07-21-17-824175'\n",
            "INFO:src.utils.logger: Epoch: 0 | Time: 0.01s | rTime: 1.467e-02h | LR: 1.000e-03 |loss: 5.643e+00 | trace_jacobian_bc: 1.968e+03 | trace_jacobian_ic: 7.744e+01 | trace_jacobian_res: 3.938e-01 | lleft: 5.936e-01 | lright: 7.447e-01 | lbottom: 6.990e-01 | lup: 2.234e+00 | linitial: 1.293e+00 | lphy: 7.839e-02 | \n",
            "INFO:src.utils.logger:Final losses:\n",
            "INFO:src.utils.logger:Final lleft: 5.936e-01 |  Final lright: 7.447e-01 |  Final lbottom: 6.990e-01 |  Final lup: 2.234e+00 |  Final linitial: 1.293e+00 |  Final lphy: 7.839e-02 | \n",
            "INFO:src.utils.logger:_save_checkpoint: [GPU:0] Epoch 0 | Training checkpoint saved at ./checkpoint/2025-05-24_07-21-17-824175/model.pth\n"
          ]
        },
        {
          "name": "stdout",
          "output_type": "stream",
          "text": [
            "domain.shape=(10100, 6), left.shape=(1515, 6), bottom.shape=(1515, 6), up.shape=(1515, 6), right.shape=(1515, 6), initial.shape=(1500, 6), sensors.shape=(5050, 6)\n"
          ]
        },
        {
          "name": "stderr",
          "output_type": "stream",
          "text": [
            "INFO:src.utils.logger: Epoch: 1 | Time: 0.01s | rTime: 2.474e-02h | LR: 1.000e-03 |loss: 8.295e-01 | trace_jacobian_bc: 3.559e+01 | trace_jacobian_ic: 2.586e+00 | trace_jacobian_res: 7.284e-01 | lleft: 5.739e-02 | lright: 1.688e-02 | lbottom: 1.405e-02 | lup: 5.878e-01 | linitial: 1.030e-01 | lphy: 5.039e-02 | \n",
            "INFO:src.utils.logger: Epoch: 2 | Time: 0.01s | rTime: 3.527e-02h | LR: 1.000e-03 |loss: 7.228e-01 | trace_jacobian_bc: 2.616e+01 | trace_jacobian_ic: 3.262e+00 | trace_jacobian_res: 6.958e-01 | lleft: 6.378e-02 | lright: 1.631e-02 | lbottom: 6.743e-03 | lup: 4.653e-01 | linitial: 1.195e-01 | lphy: 5.107e-02 | \n",
            "INFO:src.utils.logger: Epoch: 3 | Time: 0.01s | rTime: 4.564e-02h | LR: 1.000e-03 |loss: 6.827e-01 | trace_jacobian_bc: 2.594e+01 | trace_jacobian_ic: 2.613e+00 | trace_jacobian_res: 3.546e-01 | lleft: 6.565e-02 | lright: 2.246e-02 | lbottom: 8.821e-03 | lup: 4.326e-01 | linitial: 1.181e-01 | lphy: 3.509e-02 | \n",
            "INFO:src.utils.logger: Epoch: 4 | Time: 0.01s | rTime: 5.617e-02h | LR: 1.000e-03 |loss: 6.415e-01 | trace_jacobian_bc: 2.509e+01 | trace_jacobian_ic: 4.155e+00 | trace_jacobian_res: 1.928e-01 | lleft: 7.145e-02 | lright: 2.576e-02 | lbottom: 9.590e-03 | lup: 4.096e-01 | linitial: 1.038e-01 | lphy: 2.132e-02 | \n",
            "INFO:src.utils.logger: Epoch: 5 | Time: 0.01s | rTime: 6.744e-02h | LR: 1.000e-03 |loss: 6.256e-01 | trace_jacobian_bc: 3.381e+01 | trace_jacobian_ic: 4.343e+00 | trace_jacobian_res: 1.132e-01 | lleft: 4.851e-02 | lright: 2.878e-02 | lbottom: 9.226e-03 | lup: 3.744e-01 | linitial: 1.473e-01 | lphy: 1.738e-02 | \n",
            "INFO:src.utils.logger: Epoch: 6 | Time: 0.01s | rTime: 7.796e-02h | LR: 1.000e-03 |loss: 5.677e-01 | trace_jacobian_bc: 2.024e+01 | trace_jacobian_ic: 2.062e+00 | trace_jacobian_res: 9.308e-02 | lleft: 5.298e-02 | lright: 3.387e-02 | lbottom: 1.060e-02 | lup: 3.553e-01 | linitial: 1.010e-01 | lphy: 1.398e-02 | \n",
            "INFO:src.utils.logger: Epoch: 7 | Time: 0.01s | rTime: 8.903e-02h | LR: 1.000e-03 |loss: 5.553e-01 | trace_jacobian_bc: 2.573e+01 | trace_jacobian_ic: 2.561e+00 | trace_jacobian_res: 4.914e-02 | lleft: 4.771e-02 | lright: 3.654e-02 | lbottom: 1.137e-02 | lup: 3.461e-01 | linitial: 1.034e-01 | lphy: 1.022e-02 | \n",
            "INFO:src.utils.logger: Epoch: 8 | Time: 0.01s | rTime: 1.006e-01h | LR: 1.000e-03 |loss: 5.851e-01 | trace_jacobian_bc: 2.272e+01 | trace_jacobian_ic: 3.011e+00 | trace_jacobian_res: 3.641e-02 | lleft: 4.642e-02 | lright: 3.932e-02 | lbottom: 1.130e-02 | lup: 3.694e-01 | linitial: 1.097e-01 | lphy: 8.993e-03 | \n",
            "INFO:src.utils.logger: Epoch: 9 | Time: 0.01s | rTime: 1.119e-01h | LR: 1.000e-03 |loss: 5.286e-01 | trace_jacobian_bc: 3.109e+01 | trace_jacobian_ic: 3.069e+00 | trace_jacobian_res: 2.514e-02 | lleft: 4.054e-02 | lright: 3.014e-02 | lbottom: 1.153e-02 | lup: 3.483e-01 | linitial: 9.168e-02 | lphy: 6.346e-03 | \n",
            "INFO:src.utils.logger: Epoch: 10 | Time: 0.01s | rTime: 1.218e-01h | LR: 1.000e-03 |loss: 5.386e-01 | trace_jacobian_bc: 2.227e+01 | trace_jacobian_ic: 3.146e+00 | trace_jacobian_res: 3.228e-02 | lleft: 5.189e-02 | lright: 3.657e-02 | lbottom: 9.539e-03 | lup: 3.335e-01 | linitial: 9.740e-02 | lphy: 9.635e-03 | \n",
            "INFO:src.utils.logger:Final losses:\n",
            "INFO:src.utils.logger:Final lleft: 5.189e-02 |  Final lright: 3.657e-02 |  Final lbottom: 9.539e-03 |  Final lup: 3.335e-01 |  Final linitial: 9.740e-02 |  Final lphy: 9.635e-03 | \n",
            "INFO:src.utils.logger:_summary of the model _\n",
            "INFO:src.utils.logger:model configuration:\n",
            "INFO:src.utils.logger:problem : cavity\n",
            "INFO:src.utils.logger:dataset_path : ./data/cavity.mat\n",
            "INFO:src.utils.logger:batch_size : 128\n",
            "INFO:src.utils.logger:total_epochs : 1000\n",
            "INFO:src.utils.logger:activation : tanh\n",
            "INFO:src.utils.logger:network : [3, 10, 10, 3]\n",
            "INFO:src.utils.logger:weights : [4, 4, 2, 2, 2, 0.1]\n",
            "INFO:src.utils.logger:log_path : ./checkpoint\n",
            "INFO:src.utils.logger:loss_list : ['lleft', 'lright', 'lbottom', 'lup', 'linitial', 'lphy']\n",
            "INFO:src.utils.logger:solver : tanh\n",
            "INFO:src.utils.logger:print_every : 100\n",
            "INFO:src.utils.logger:save_every : 1000\n",
            "INFO:src.utils.logger:_save_checkpoint: [GPU:0] Epoch 1000 | Training checkpoint saved at ./checkpoint/2025-05-24_07-21-17-824175/model.pth\n",
            "INFO:src.utils.logger:Final losses:\n",
            "INFO:src.utils.logger:Final lleft: 5.189e-02 |  Final lright: 3.657e-02 |  Final lbottom: 9.539e-03 |  Final lup: 3.335e-01 |  Final linitial: 9.740e-02 |  Final lphy: 9.635e-03 | \n",
            "INFO:src.utils.logger:_save_checkpoint: [GPU:0] Epoch 1001 | Training checkpoint saved at ./checkpoint/2025-05-24_07-21-17-824175/model.pth\n"
          ]
        }
      ],
      "source": [
        "from src.trainer import cavity_trainer\n",
        "from src.nn.tanh_parameterized import PINNKAN\n",
        "from src.data.cavity_dataset import CavityDatasetFromFile\n",
        "\n",
        "model = PINNKAN(config.get(\"network\"), config.get(\"activation\")).to(\"cpu\")\n",
        "obj = CavityDatasetFromFile(config.get(\"dataset_path\"), 0)\n",
        "train_dataloader = obj.__getitem__()\n",
        "# train_dataloader = torch.utils.data.DataLoader(\n",
        "#     dataset,\n",
        "#     batch_size=config.get(\"batch_size\"),\n",
        "#     shuffle=True,\n",
        "#     num_workers=0,\n",
        "#     pin_memory=True,\n",
        "#     drop_last=True,\n",
        "# )\n",
        "optimizer = torch.optim.Adam(model.parameters(), lr=0.001, weight_decay=1e-6)\n",
        "\n",
        "\n",
        "trainer = cavity_trainer.Trainer(\n",
        "    model,\n",
        "    train_dataloader,\n",
        "    optimizer,\n",
        "    local_rank,\n",
        "    config,\n",
        ")\n",
        "\n",
        "trainer.train_mini_batch()\n"
      ]
    },
    {
      "cell_type": "code",
      "execution_count": 29,
      "metadata": {},
      "outputs": [],
      "source": [
        "model_path = os.path.join(trainer.logger.get_output_dir(), \"model.pth\")\n",
        "\n",
        "state = torch.load(model_path)\n",
        "config = state.get(\"config\", {})\n",
        "solver = config.get(\"solver\")\n",
        "trace_jacobian_bc_log = state.get(\"trace_jacobian_bc_log\")\n",
        "trace_jacobian_ic_log = state.get(\"trace_jacobian_ic_log\")\n",
        "trace_jacobian_res_log = state.get(\"trace_jacobian_res_log\")\n",
        "# Extract model configuration from state\n",
        "model_activation_name = config.get(\"activation\")\n",
        "model_architecture = config.get(\"network\")\n",
        "loss_dict = state.get(\"loss_history\")\n"
      ]
    },
    {
      "cell_type": "code",
      "execution_count": null,
      "metadata": {},
      "outputs": [
        {
          "ename": "SyntaxError",
          "evalue": "invalid syntax (3524749571.py, line 1)",
          "output_type": "error",
          "traceback": [
            "\u001b[0;36m  Cell \u001b[0;32mIn[8], line 1\u001b[0;36m\u001b[0m\n\u001b[0;31m    pythom -m src.trainer.main_trainer --total_epochs 100 --save_every 10 --print_every 10 --batch_size 32 --log_path ./logs --solver param_tanh --problem cavity --weights [10, 10, 10, 10] --network [2, 10, 10, 1] --dataset_path ./data/cavity.h5\u001b[0m\n\u001b[0m              ^\u001b[0m\n\u001b[0;31mSyntaxError\u001b[0m\u001b[0;31m:\u001b[0m invalid syntax\n"
          ]
        }
      ],
      "source": [
        "fig, ax = plt.subplots(1, 3)\n",
        "fig.set_size_inches([16, 3.5])  # Adjusted figure size\n",
        "dict_list = [\n",
        "    trace_jacobian_bc_log,\n",
        "    trace_jacobian_ic_log,\n",
        "    trace_jacobian_res_log,\n",
        "]\n",
        "lines = []  # List to collect Line2D objects for the legend\n",
        "labels = []  # List to collect corresponding labels\n",
        "\n",
        "for index in range(len(dict_list)):\n",
        "    data_list = [\n",
        "        {\n",
        "            \"data\": dict_list[index][\"bspline\"],\n",
        "            \"color\": model_color[\"bspline\"],\n",
        "            \"name\": \"B-spline\",\n",
        "            \"alpha\": 1.0,\n",
        "        },\n",
        "        {\n",
        "            \"data\": dict_list[index][\"tanh\"],\n",
        "            \"color\": model_color[\"tanh\"],\n",
        "            \"name\": \"Tanh\",\n",
        "            \"alpha\": 1.0,\n",
        "        },\n",
        "        {\n",
        "            \"data\": dict_list[index][\"grbf\"],\n",
        "            \"color\": model_color[\"grbf\"],\n",
        "            \"name\": \"GRBF\",\n",
        "            \"alpha\": 1.0,\n",
        "        },\n",
        "        {\n",
        "            \"data\": dict_list[index][\"fourier\"],\n",
        "            \"color\": model_color[\"fourier\"],\n",
        "            \"name\": \"Fourier\",\n",
        "            \"alpha\": 1.0,\n",
        "        },\n",
        "        {\n",
        "            \"data\": dict_list[index][\"param_tanh\"],\n",
        "            \"color\": model_color[\"param_tanh\"],\n",
        "            \"name\": \"parametric-Tanh\",\n",
        "            \"alpha\": 1.0,\n",
        "        },\n",
        "        {\n",
        "            \"data\": dict_list[index][\"chebyshev\"],\n",
        "            \"color\": model_color[\"chebyshev\"],\n",
        "            \"name\": \"Chebyshev\",\n",
        "            \"alpha\": 1.0,\n",
        "        },\n",
        "        {\n",
        "            \"data\": dict_list[index][\"jacobi\"],\n",
        "            \"color\": model_color[\"jacobi\"],\n",
        "            \"name\": \"Jacobi\",\n",
        "            \"alpha\": 1.0,\n",
        "        },\n",
        "    ]\n",
        "\n",
        "    # Call the plot_spectral function, assuming it does the plotting\n",
        "    plot_spectral(ax[index], data_list)\n",
        "\n",
        "# Extract line objects from the current axis for the legend\n",
        "for line in ax[-1].get_lines():\n",
        "    lines.append(line)\n",
        "    labels.append(line.get_label())\n",
        "\n",
        "# Save the figure\n",
        "save_path = os.path.join(logger.get_output_dir(), \"spectral_cavity.png\")\n",
        "\n",
        "# Create a single legend from the collected lines and labels\n",
        "legend = fig.legend(\n",
        "    lines, labels, loc=\"upper center\", bbox_to_anchor=(0.5, 1.1), ncol=7\n",
        ")\n",
        "legend.get_frame().set_facecolor(\"white\")\n",
        "\n",
        "plt.tight_layout()\n",
        "plt.savefig(save_path)"
      ]
    }
  ],
  "metadata": {
    "kernelspec": {
      "display_name": "pinn_ibm4fsi",
      "language": "python",
      "name": "python3"
    },
    "language_info": {
      "codemirror_mode": {
        "name": "ipython",
        "version": 3
      },
      "file_extension": ".py",
      "mimetype": "text/x-python",
      "name": "python",
      "nbconvert_exporter": "python",
      "pygments_lexer": "ipython3",
      "version": "3.10.16"
    }
  },
  "nbformat": 4,
  "nbformat_minor": 2
}
