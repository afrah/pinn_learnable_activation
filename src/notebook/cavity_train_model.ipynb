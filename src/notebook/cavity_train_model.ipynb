{
  "cells": [
    {
      "cell_type": "markdown",
      "metadata": {},
      "source": [
        "# Training Cavity Model\n",
        "\n"
      ]
    },
    {
      "cell_type": "code",
      "execution_count": 25,
      "metadata": {},
      "outputs": [
        {
          "name": "stdout",
          "output_type": "stream",
          "text": [
            "The autoreload extension is already loaded. To reload it, use:\n",
            "  %reload_ext autoreload\n"
          ]
        }
      ],
      "source": [
        "%load_ext autoreload\n",
        "%autoreload 2"
      ]
    },
    {
      "cell_type": "code",
      "execution_count": 3,
      "metadata": {},
      "outputs": [],
      "source": [
        "import sys\n",
        "import os\n",
        "import torch\n",
        "import numpy as np\n",
        "import gc\n",
        "\n",
        "import h5py\n",
        "import pandas as pd\n",
        "from matplotlib import pyplot as plt"
      ]
    },
    {
      "cell_type": "markdown",
      "metadata": {},
      "source": [
        "Import local packages"
      ]
    },
    {
      "cell_type": "code",
      "execution_count": 34,
      "metadata": {},
      "outputs": [],
      "source": [
        "from src.utils.logger import Logging\n",
        "from src.utils.utils import lp_error\n",
        "from src.utils.color import model_color\n",
        "from src.utils.plot_spectral import plot_spectral"
      ]
    },
    {
      "cell_type": "markdown",
      "metadata": {},
      "source": [
        "Set various constant variables: model path, name, etc."
      ]
    },
    {
      "cell_type": "code",
      "execution_count": 5,
      "metadata": {},
      "outputs": [],
      "source": [
        "TEST_CHECKPOINT_PATH = \"./checkpoint\"\n",
        "logger = Logging(TEST_CHECKPOINT_PATH)\n",
        "model_dirname = logger.get_output_dir()\n",
        "\n",
        "local_rank = 0\n",
        "world_size = 1"
      ]
    },
    {
      "cell_type": "markdown",
      "metadata": {},
      "source": [
        "## Load the Model and Test"
      ]
    },
    {
      "cell_type": "code",
      "execution_count": null,
      "metadata": {},
      "outputs": [],
      "source": [
        "TEST_DATA_PKL = \"./data/cavity.mat\"\n",
        "data = h5py.File(TEST_DATA_PKL, \"r\")  # load dataset from matlab\n",
        "\n",
        "domain = pd.DataFrame(data[\"cavity_internal\"]).T.to_numpy()\n",
        "\n",
        "#  t = tf.reshape(tstep,N_data)[:,0].T\n",
        "time_ = domain[:, 0:1]\n",
        "xfa = domain[:, 1:2]\n",
        "yfa = domain[:, 2:3]\n",
        "ufa = domain[:, 3:4]\n",
        "vfa = domain[:, 4:5]\n",
        "pfa = domain[:, 5:6]\n"
      ]
    },
    {
      "cell_type": "code",
      "execution_count": 31,
      "metadata": {},
      "outputs": [],
      "source": [
        "config = {\n",
        "    \"problem\": \"cavity\",\n",
        "    \"dataset_path\": \"./data/cavity.mat\",\n",
        "    \"batch_size\": 128,\n",
        "    \"total_epochs\": 1000,\n",
        "    \"activation\": \"tanh\",\n",
        "    \"network\": [3, 10, 10, 3],\n",
        "    \"weights\": [4, 4, 2, 2, 2, 0.1],\n",
        "    \"log_path\": TEST_CHECKPOINT_PATH,\n",
        "    \"loss_list\": [\"lleft\", \"lright\", \"lbottom\", \"lup\", \"linitial\", \"lphy\"],\n",
        "    \"solver\": \"tanh\",\n",
        "    \"print_every\": 100,\n",
        "    \"save_every\": 1000,\n",
        "}\n",
        "\n",
        "trace_jacobian_bc_log_dic = {}\n",
        "trace_jacobian_res_log_dic = {}\n",
        "trace_jacobian_ic_log_dic = {}\n"
      ]
    },
    {
      "cell_type": "code",
      "execution_count": 27,
      "metadata": {},
      "outputs": [
        {
          "name": "stderr",
          "output_type": "stream",
          "text": [
            "INFO:src.utils.logger:checkpoint path: self.log_path='./checkpoint/2025-05-24_07-21-17-824175'\n",
            "INFO:src.utils.logger: Epoch: 0 | Time: 0.01s | rTime: 1.467e-02h | LR: 1.000e-03 |loss: 5.643e+00 | trace_jacobian_bc: 1.968e+03 | trace_jacobian_ic: 7.744e+01 | trace_jacobian_res: 3.938e-01 | lleft: 5.936e-01 | lright: 7.447e-01 | lbottom: 6.990e-01 | lup: 2.234e+00 | linitial: 1.293e+00 | lphy: 7.839e-02 | \n",
            "INFO:src.utils.logger:Final losses:\n",
            "INFO:src.utils.logger:Final lleft: 5.936e-01 |  Final lright: 7.447e-01 |  Final lbottom: 6.990e-01 |  Final lup: 2.234e+00 |  Final linitial: 1.293e+00 |  Final lphy: 7.839e-02 | \n",
            "INFO:src.utils.logger:_save_checkpoint: [GPU:0] Epoch 0 | Training checkpoint saved at ./checkpoint/2025-05-24_07-21-17-824175/model.pth\n"
          ]
        },
        {
          "name": "stdout",
          "output_type": "stream",
          "text": [
            "domain.shape=(10100, 6), left.shape=(1515, 6), bottom.shape=(1515, 6), up.shape=(1515, 6), right.shape=(1515, 6), initial.shape=(1500, 6), sensors.shape=(5050, 6)\n"
          ]
        },
        {
          "name": "stderr",
          "output_type": "stream",
          "text": [
            "INFO:src.utils.logger: Epoch: 1 | Time: 0.01s | rTime: 2.474e-02h | LR: 1.000e-03 |loss: 8.295e-01 | trace_jacobian_bc: 3.559e+01 | trace_jacobian_ic: 2.586e+00 | trace_jacobian_res: 7.284e-01 | lleft: 5.739e-02 | lright: 1.688e-02 | lbottom: 1.405e-02 | lup: 5.878e-01 | linitial: 1.030e-01 | lphy: 5.039e-02 | \n",
            "INFO:src.utils.logger: Epoch: 2 | Time: 0.01s | rTime: 3.527e-02h | LR: 1.000e-03 |loss: 7.228e-01 | trace_jacobian_bc: 2.616e+01 | trace_jacobian_ic: 3.262e+00 | trace_jacobian_res: 6.958e-01 | lleft: 6.378e-02 | lright: 1.631e-02 | lbottom: 6.743e-03 | lup: 4.653e-01 | linitial: 1.195e-01 | lphy: 5.107e-02 | \n",
            "INFO:src.utils.logger: Epoch: 3 | Time: 0.01s | rTime: 4.564e-02h | LR: 1.000e-03 |loss: 6.827e-01 | trace_jacobian_bc: 2.594e+01 | trace_jacobian_ic: 2.613e+00 | trace_jacobian_res: 3.546e-01 | lleft: 6.565e-02 | lright: 2.246e-02 | lbottom: 8.821e-03 | lup: 4.326e-01 | linitial: 1.181e-01 | lphy: 3.509e-02 | \n",
            "INFO:src.utils.logger: Epoch: 4 | Time: 0.01s | rTime: 5.617e-02h | LR: 1.000e-03 |loss: 6.415e-01 | trace_jacobian_bc: 2.509e+01 | trace_jacobian_ic: 4.155e+00 | trace_jacobian_res: 1.928e-01 | lleft: 7.145e-02 | lright: 2.576e-02 | lbottom: 9.590e-03 | lup: 4.096e-01 | linitial: 1.038e-01 | lphy: 2.132e-02 | \n",
            "INFO:src.utils.logger: Epoch: 5 | Time: 0.01s | rTime: 6.744e-02h | LR: 1.000e-03 |loss: 6.256e-01 | trace_jacobian_bc: 3.381e+01 | trace_jacobian_ic: 4.343e+00 | trace_jacobian_res: 1.132e-01 | lleft: 4.851e-02 | lright: 2.878e-02 | lbottom: 9.226e-03 | lup: 3.744e-01 | linitial: 1.473e-01 | lphy: 1.738e-02 | \n",
            "INFO:src.utils.logger: Epoch: 6 | Time: 0.01s | rTime: 7.796e-02h | LR: 1.000e-03 |loss: 5.677e-01 | trace_jacobian_bc: 2.024e+01 | trace_jacobian_ic: 2.062e+00 | trace_jacobian_res: 9.308e-02 | lleft: 5.298e-02 | lright: 3.387e-02 | lbottom: 1.060e-02 | lup: 3.553e-01 | linitial: 1.010e-01 | lphy: 1.398e-02 | \n",
            "INFO:src.utils.logger: Epoch: 7 | Time: 0.01s | rTime: 8.903e-02h | LR: 1.000e-03 |loss: 5.553e-01 | trace_jacobian_bc: 2.573e+01 | trace_jacobian_ic: 2.561e+00 | trace_jacobian_res: 4.914e-02 | lleft: 4.771e-02 | lright: 3.654e-02 | lbottom: 1.137e-02 | lup: 3.461e-01 | linitial: 1.034e-01 | lphy: 1.022e-02 | \n",
            "INFO:src.utils.logger: Epoch: 8 | Time: 0.01s | rTime: 1.006e-01h | LR: 1.000e-03 |loss: 5.851e-01 | trace_jacobian_bc: 2.272e+01 | trace_jacobian_ic: 3.011e+00 | trace_jacobian_res: 3.641e-02 | lleft: 4.642e-02 | lright: 3.932e-02 | lbottom: 1.130e-02 | lup: 3.694e-01 | linitial: 1.097e-01 | lphy: 8.993e-03 | \n",
            "INFO:src.utils.logger: Epoch: 9 | Time: 0.01s | rTime: 1.119e-01h | LR: 1.000e-03 |loss: 5.286e-01 | trace_jacobian_bc: 3.109e+01 | trace_jacobian_ic: 3.069e+00 | trace_jacobian_res: 2.514e-02 | lleft: 4.054e-02 | lright: 3.014e-02 | lbottom: 1.153e-02 | lup: 3.483e-01 | linitial: 9.168e-02 | lphy: 6.346e-03 | \n",
            "INFO:src.utils.logger: Epoch: 10 | Time: 0.01s | rTime: 1.218e-01h | LR: 1.000e-03 |loss: 5.386e-01 | trace_jacobian_bc: 2.227e+01 | trace_jacobian_ic: 3.146e+00 | trace_jacobian_res: 3.228e-02 | lleft: 5.189e-02 | lright: 3.657e-02 | lbottom: 9.539e-03 | lup: 3.335e-01 | linitial: 9.740e-02 | lphy: 9.635e-03 | \n",
            "INFO:src.utils.logger:Final losses:\n",
            "INFO:src.utils.logger:Final lleft: 5.189e-02 |  Final lright: 3.657e-02 |  Final lbottom: 9.539e-03 |  Final lup: 3.335e-01 |  Final linitial: 9.740e-02 |  Final lphy: 9.635e-03 | \n",
            "INFO:src.utils.logger:_summary of the model _\n",
            "INFO:src.utils.logger:model configuration:\n",
            "INFO:src.utils.logger:problem : cavity\n",
            "INFO:src.utils.logger:dataset_path : ./data/cavity.mat\n",
            "INFO:src.utils.logger:batch_size : 128\n",
            "INFO:src.utils.logger:total_epochs : 1000\n",
            "INFO:src.utils.logger:activation : tanh\n",
            "INFO:src.utils.logger:network : [3, 10, 10, 3]\n",
            "INFO:src.utils.logger:weights : [4, 4, 2, 2, 2, 0.1]\n",
            "INFO:src.utils.logger:log_path : ./checkpoint\n",
            "INFO:src.utils.logger:loss_list : ['lleft', 'lright', 'lbottom', 'lup', 'linitial', 'lphy']\n",
            "INFO:src.utils.logger:solver : tanh\n",
            "INFO:src.utils.logger:print_every : 100\n",
            "INFO:src.utils.logger:save_every : 1000\n",
            "INFO:src.utils.logger:_save_checkpoint: [GPU:0] Epoch 1000 | Training checkpoint saved at ./checkpoint/2025-05-24_07-21-17-824175/model.pth\n",
            "INFO:src.utils.logger:Final losses:\n",
            "INFO:src.utils.logger:Final lleft: 5.189e-02 |  Final lright: 3.657e-02 |  Final lbottom: 9.539e-03 |  Final lup: 3.335e-01 |  Final linitial: 9.740e-02 |  Final lphy: 9.635e-03 | \n",
            "INFO:src.utils.logger:_save_checkpoint: [GPU:0] Epoch 1001 | Training checkpoint saved at ./checkpoint/2025-05-24_07-21-17-824175/model.pth\n"
          ]
        }
      ],
      "source": [
        "from src.trainer import cavity_trainer\n",
        "from src.nn.tanh_parameterized import PINNKAN\n",
        "from src.data.cavity_dataset import CavityDatasetFromFile\n",
        "\n",
        "model = PINNKAN(config.get(\"network\"), config.get(\"activation\")).to(\"cpu\")\n",
        "obj = CavityDatasetFromFile(config.get(\"dataset_path\"), 0)\n",
        "train_dataloader = obj.__getitem__()\n",
        "# train_dataloader = torch.utils.data.DataLoader(\n",
        "#     dataset,\n",
        "#     batch_size=config.get(\"batch_size\"),\n",
        "#     shuffle=True,\n",
        "#     num_workers=0,\n",
        "#     pin_memory=True,\n",
        "#     drop_last=True,\n",
        "# )\n",
        "optimizer = torch.optim.Adam(model.parameters(), lr=0.001, weight_decay=1e-6)\n",
        "\n",
        "\n",
        "trainer = cavity_trainer.Trainer(\n",
        "    model,\n",
        "    train_dataloader,\n",
        "    optimizer,\n",
        "    local_rank,\n",
        "    config,\n",
        ")\n",
        "\n",
        "trainer.train_mini_batch()\n"
      ]
    },
    {
      "cell_type": "code",
      "execution_count": 36,
      "metadata": {},
      "outputs": [
        {
          "ename": "AttributeError",
          "evalue": "'list' object has no attribute 'cpu'",
          "output_type": "error",
          "traceback": [
            "\u001b[0;31m---------------------------------------------------------------------------\u001b[0m",
            "\u001b[0;31mAttributeError\u001b[0m                            Traceback (most recent call last)",
            "Cell \u001b[0;32mIn[36], line 19\u001b[0m\n\u001b[1;32m     16\u001b[0m model_architecture \u001b[38;5;241m=\u001b[39m config\u001b[38;5;241m.\u001b[39mget(\u001b[38;5;124m\"\u001b[39m\u001b[38;5;124mnetwork\u001b[39m\u001b[38;5;124m\"\u001b[39m)\n\u001b[1;32m     17\u001b[0m loss_dict \u001b[38;5;241m=\u001b[39m state\u001b[38;5;241m.\u001b[39mget(\u001b[38;5;124m\"\u001b[39m\u001b[38;5;124mloss_history\u001b[39m\u001b[38;5;124m\"\u001b[39m)\n\u001b[0;32m---> 19\u001b[0m trace_jacobian_bc_log_dic[model_activation_name] \u001b[38;5;241m=\u001b[39m \u001b[43mtrace_jacobian_bc_log\u001b[49m\u001b[38;5;241;43m.\u001b[39;49m\u001b[43mcpu\u001b[49m()\n\u001b[1;32m     20\u001b[0m trace_jacobian_ic_log_dic[model_activation_name] \u001b[38;5;241m=\u001b[39m trace_jacobian_ic_log\u001b[38;5;241m.\u001b[39mcpu()\n\u001b[1;32m     21\u001b[0m trace_jacobian_res_log_dic[model_activation_name] \u001b[38;5;241m=\u001b[39m trace_jacobian_res_log\u001b[38;5;241m.\u001b[39mcpu()\n",
            "\u001b[0;31mAttributeError\u001b[0m: 'list' object has no attribute 'cpu'"
          ]
        }
      ],
      "source": [
        "TANH_NORM_DIST = os.path.join(trainer.logger.get_output_dir(), \"model.pth\")\n",
        "\n",
        "\n",
        "MODEL_PATH_LIST = {\n",
        "    \"tanh\": TANH_NORM_DIST,\n",
        "}\n",
        "\n",
        "state = torch.load(MODEL_PATH_LIST[\"tanh\"])\n",
        "config = state.get(\"config\", {})\n",
        "solver = config.get(\"solver\")\n",
        "trace_jacobian_bc_log = state.get(\"trace_jacobian_bc_log\")\n",
        "trace_jacobian_ic_log = state.get(\"trace_jacobian_ic_log\")\n",
        "trace_jacobian_res_log = state.get(\"trace_jacobian_res_log\")\n",
        "# Extract model configuration from state\n",
        "model_activation_name = config.get(\"activation\")\n",
        "model_architecture = config.get(\"network\")\n",
        "loss_dict = state.get(\"loss_history\")\n",
        "\n",
        "trace_jacobian_bc_log_dic[model_activation_name] = trace_jacobian_bc_log.cpu()\n",
        "trace_jacobian_ic_log_dic[model_activation_name] = trace_jacobian_ic_log.cpu()\n",
        "trace_jacobian_res_log_dic[model_activation_name] = trace_jacobian_res_log.cpu()"
      ]
    },
    {
      "cell_type": "code",
      "execution_count": 37,
      "metadata": {},
      "outputs": [
        {
          "data": {
            "text/plain": [
              "[tensor(1968.2146, device='cuda:0', requires_grad=True),\n",
              " tensor(35.5862, device='cuda:0', requires_grad=True),\n",
              " tensor(26.1609, device='cuda:0', requires_grad=True),\n",
              " tensor(25.9410, device='cuda:0', requires_grad=True),\n",
              " tensor(25.0933, device='cuda:0', requires_grad=True),\n",
              " tensor(33.8090, device='cuda:0', requires_grad=True),\n",
              " tensor(20.2402, device='cuda:0', requires_grad=True),\n",
              " tensor(25.7291, device='cuda:0', requires_grad=True),\n",
              " tensor(22.7194, device='cuda:0', requires_grad=True),\n",
              " tensor(31.0903, device='cuda:0', requires_grad=True),\n",
              " tensor(22.2679, device='cuda:0', requires_grad=True)]"
            ]
          },
          "execution_count": 37,
          "metadata": {},
          "output_type": "execute_result"
        }
      ],
      "source": [
        "trace_jacobian_bc_log"
      ]
    },
    {
      "cell_type": "code",
      "execution_count": null,
      "metadata": {},
      "outputs": [
        {
          "ename": "TypeError",
          "evalue": "can't convert cuda:0 device type tensor to numpy. Use Tensor.cpu() to copy the tensor to host memory first.",
          "output_type": "error",
          "traceback": [
            "\u001b[0;31m---------------------------------------------------------------------------\u001b[0m",
            "\u001b[0;31mTypeError\u001b[0m                                 Traceback (most recent call last)",
            "Cell \u001b[0;32mIn[35], line 57\u001b[0m\n\u001b[1;32m     11\u001b[0m \u001b[38;5;28;01mfor\u001b[39;00m index \u001b[38;5;129;01min\u001b[39;00m \u001b[38;5;28mrange\u001b[39m(\u001b[38;5;28mlen\u001b[39m(dict_list)):\n\u001b[1;32m     12\u001b[0m     data_list \u001b[38;5;241m=\u001b[39m [\n\u001b[1;32m     13\u001b[0m         \u001b[38;5;66;03m# {\u001b[39;00m\n\u001b[1;32m     14\u001b[0m         \u001b[38;5;66;03m#     \"data\": dict_list[index][\"bspline\"],\u001b[39;00m\n\u001b[0;32m   (...)\u001b[0m\n\u001b[1;32m     54\u001b[0m         \u001b[38;5;66;03m# },\u001b[39;00m\n\u001b[1;32m     55\u001b[0m     ]\n\u001b[0;32m---> 57\u001b[0m     \u001b[43mplot_spectral\u001b[49m\u001b[43m(\u001b[49m\u001b[43max\u001b[49m\u001b[43m[\u001b[49m\u001b[43mindex\u001b[49m\u001b[43m]\u001b[49m\u001b[43m,\u001b[49m\u001b[43m \u001b[49m\u001b[43mdata_list\u001b[49m\u001b[43m)\u001b[49m\n\u001b[1;32m     59\u001b[0m \u001b[38;5;28;01mfor\u001b[39;00m line \u001b[38;5;129;01min\u001b[39;00m ax[\u001b[38;5;241m-\u001b[39m\u001b[38;5;241m1\u001b[39m]\u001b[38;5;241m.\u001b[39mget_lines():\n\u001b[1;32m     60\u001b[0m     lines\u001b[38;5;241m.\u001b[39mappend(line)\n",
            "File \u001b[0;32m~/saiful/afrah/code/pinn_learnable_activation/src/utils/plot_spectral.py:28\u001b[0m, in \u001b[0;36mplot_spectral\u001b[0;34m(ax, data_list, y_max, label)\u001b[0m\n\u001b[1;32m     17\u001b[0m     alpha \u001b[38;5;241m=\u001b[39m entry[\u001b[38;5;124m\"\u001b[39m\u001b[38;5;124malpha\u001b[39m\u001b[38;5;124m\"\u001b[39m]\n\u001b[1;32m     19\u001b[0m     \u001b[38;5;66;03m# sns.scatterplot(\u001b[39;00m\n\u001b[1;32m     20\u001b[0m     \u001b[38;5;66;03m#     x=np.arange(len(data)),\u001b[39;00m\n\u001b[1;32m     21\u001b[0m     \u001b[38;5;66;03m#     y=data,\u001b[39;00m\n\u001b[0;32m   (...)\u001b[0m\n\u001b[1;32m     26\u001b[0m     \u001b[38;5;66;03m#     s=20,  # Decrease the size of the dots\u001b[39;00m\n\u001b[1;32m     27\u001b[0m     \u001b[38;5;66;03m# )\u001b[39;00m\n\u001b[0;32m---> 28\u001b[0m     \u001b[43msns\u001b[49m\u001b[38;5;241;43m.\u001b[39;49m\u001b[43mlineplot\u001b[49m\u001b[43m(\u001b[49m\n\u001b[1;32m     29\u001b[0m \u001b[43m        \u001b[49m\u001b[43mx\u001b[49m\u001b[38;5;241;43m=\u001b[39;49m\u001b[43mnp\u001b[49m\u001b[38;5;241;43m.\u001b[39;49m\u001b[43marange\u001b[49m\u001b[43m(\u001b[49m\u001b[38;5;28;43mlen\u001b[39;49m\u001b[43m(\u001b[49m\u001b[43mdata\u001b[49m\u001b[43m)\u001b[49m\u001b[43m)\u001b[49m\u001b[43m,\u001b[49m\n\u001b[1;32m     30\u001b[0m \u001b[43m        \u001b[49m\u001b[43my\u001b[49m\u001b[38;5;241;43m=\u001b[39;49m\u001b[43mdata\u001b[49m\u001b[43m,\u001b[49m\n\u001b[1;32m     31\u001b[0m \u001b[43m        \u001b[49m\u001b[43max\u001b[49m\u001b[38;5;241;43m=\u001b[39;49m\u001b[43max\u001b[49m\u001b[43m,\u001b[49m\n\u001b[1;32m     32\u001b[0m \u001b[43m        \u001b[49m\u001b[43mcolor\u001b[49m\u001b[38;5;241;43m=\u001b[39;49m\u001b[43mcolor\u001b[49m\u001b[43m,\u001b[49m\n\u001b[1;32m     33\u001b[0m \u001b[43m        \u001b[49m\u001b[43malpha\u001b[49m\u001b[38;5;241;43m=\u001b[39;49m\u001b[43malpha\u001b[49m\u001b[43m,\u001b[49m\n\u001b[1;32m     34\u001b[0m \u001b[43m        \u001b[49m\u001b[43mlinestyle\u001b[49m\u001b[38;5;241;43m=\u001b[39;49m\u001b[38;5;124;43m\"\u001b[39;49m\u001b[38;5;124;43m-\u001b[39;49m\u001b[38;5;124;43m\"\u001b[39;49m\u001b[43m,\u001b[49m\n\u001b[1;32m     35\u001b[0m \u001b[43m        \u001b[49m\u001b[43mlinewidth\u001b[49m\u001b[38;5;241;43m=\u001b[39;49m\u001b[38;5;241;43m2\u001b[39;49m\u001b[43m,\u001b[49m\n\u001b[1;32m     36\u001b[0m \u001b[43m        \u001b[49m\u001b[43mlabel\u001b[49m\u001b[38;5;241;43m=\u001b[39;49m\u001b[38;5;124;43mf\u001b[39;49m\u001b[38;5;124;43m\"\u001b[39;49m\u001b[38;5;132;43;01m{\u001b[39;49;00m\u001b[43mname\u001b[49m\u001b[38;5;132;43;01m}\u001b[39;49;00m\u001b[38;5;124;43m\"\u001b[39;49m\u001b[43m,\u001b[49m\n\u001b[1;32m     37\u001b[0m \u001b[43m    \u001b[49m\u001b[43m)\u001b[49m\n\u001b[1;32m     39\u001b[0m ax\u001b[38;5;241m.\u001b[39mset_yscale(\u001b[38;5;124m\"\u001b[39m\u001b[38;5;124mlog\u001b[39m\u001b[38;5;124m\"\u001b[39m)\n\u001b[1;32m     40\u001b[0m ax\u001b[38;5;241m.\u001b[39mset_xlabel(\u001b[38;5;124mr\u001b[39m\u001b[38;5;124m\"\u001b[39m\u001b[38;5;124mEpochs (x$10^3$) →\u001b[39m\u001b[38;5;124m\"\u001b[39m, fontsize\u001b[38;5;241m=\u001b[39m\u001b[38;5;241m15\u001b[39m, color\u001b[38;5;241m=\u001b[39m\u001b[38;5;124m\"\u001b[39m\u001b[38;5;124mgrey\u001b[39m\u001b[38;5;124m\"\u001b[39m)\n",
            "File \u001b[0;32m~/anaconda3/envs/pinn_ibm4fsi/lib/python3.10/site-packages/seaborn/relational.py:485\u001b[0m, in \u001b[0;36mlineplot\u001b[0;34m(data, x, y, hue, size, style, units, weights, palette, hue_order, hue_norm, sizes, size_order, size_norm, dashes, markers, style_order, estimator, errorbar, n_boot, seed, orient, sort, err_style, err_kws, legend, ci, ax, **kwargs)\u001b[0m\n\u001b[1;32m    471\u001b[0m \u001b[38;5;28;01mdef\u001b[39;00m\u001b[38;5;250m \u001b[39m\u001b[38;5;21mlineplot\u001b[39m(\n\u001b[1;32m    472\u001b[0m     data\u001b[38;5;241m=\u001b[39m\u001b[38;5;28;01mNone\u001b[39;00m, \u001b[38;5;241m*\u001b[39m,\n\u001b[1;32m    473\u001b[0m     x\u001b[38;5;241m=\u001b[39m\u001b[38;5;28;01mNone\u001b[39;00m, y\u001b[38;5;241m=\u001b[39m\u001b[38;5;28;01mNone\u001b[39;00m, hue\u001b[38;5;241m=\u001b[39m\u001b[38;5;28;01mNone\u001b[39;00m, size\u001b[38;5;241m=\u001b[39m\u001b[38;5;28;01mNone\u001b[39;00m, style\u001b[38;5;241m=\u001b[39m\u001b[38;5;28;01mNone\u001b[39;00m, units\u001b[38;5;241m=\u001b[39m\u001b[38;5;28;01mNone\u001b[39;00m, weights\u001b[38;5;241m=\u001b[39m\u001b[38;5;28;01mNone\u001b[39;00m,\n\u001b[0;32m   (...)\u001b[0m\n\u001b[1;32m    481\u001b[0m \n\u001b[1;32m    482\u001b[0m     \u001b[38;5;66;03m# Handle deprecation of ci parameter\u001b[39;00m\n\u001b[1;32m    483\u001b[0m     errorbar \u001b[38;5;241m=\u001b[39m _deprecate_ci(errorbar, ci)\n\u001b[0;32m--> 485\u001b[0m     p \u001b[38;5;241m=\u001b[39m \u001b[43m_LinePlotter\u001b[49m\u001b[43m(\u001b[49m\n\u001b[1;32m    486\u001b[0m \u001b[43m        \u001b[49m\u001b[43mdata\u001b[49m\u001b[38;5;241;43m=\u001b[39;49m\u001b[43mdata\u001b[49m\u001b[43m,\u001b[49m\n\u001b[1;32m    487\u001b[0m \u001b[43m        \u001b[49m\u001b[43mvariables\u001b[49m\u001b[38;5;241;43m=\u001b[39;49m\u001b[38;5;28;43mdict\u001b[39;49m\u001b[43m(\u001b[49m\n\u001b[1;32m    488\u001b[0m \u001b[43m            \u001b[49m\u001b[43mx\u001b[49m\u001b[38;5;241;43m=\u001b[39;49m\u001b[43mx\u001b[49m\u001b[43m,\u001b[49m\u001b[43m \u001b[49m\u001b[43my\u001b[49m\u001b[38;5;241;43m=\u001b[39;49m\u001b[43my\u001b[49m\u001b[43m,\u001b[49m\u001b[43m \u001b[49m\u001b[43mhue\u001b[49m\u001b[38;5;241;43m=\u001b[39;49m\u001b[43mhue\u001b[49m\u001b[43m,\u001b[49m\u001b[43m \u001b[49m\u001b[43msize\u001b[49m\u001b[38;5;241;43m=\u001b[39;49m\u001b[43msize\u001b[49m\u001b[43m,\u001b[49m\u001b[43m \u001b[49m\u001b[43mstyle\u001b[49m\u001b[38;5;241;43m=\u001b[39;49m\u001b[43mstyle\u001b[49m\u001b[43m,\u001b[49m\u001b[43m \u001b[49m\u001b[43munits\u001b[49m\u001b[38;5;241;43m=\u001b[39;49m\u001b[43munits\u001b[49m\u001b[43m,\u001b[49m\u001b[43m \u001b[49m\u001b[43mweight\u001b[49m\u001b[38;5;241;43m=\u001b[39;49m\u001b[43mweights\u001b[49m\n\u001b[1;32m    489\u001b[0m \u001b[43m        \u001b[49m\u001b[43m)\u001b[49m\u001b[43m,\u001b[49m\n\u001b[1;32m    490\u001b[0m \u001b[43m        \u001b[49m\u001b[43mestimator\u001b[49m\u001b[38;5;241;43m=\u001b[39;49m\u001b[43mestimator\u001b[49m\u001b[43m,\u001b[49m\u001b[43m \u001b[49m\u001b[43mn_boot\u001b[49m\u001b[38;5;241;43m=\u001b[39;49m\u001b[43mn_boot\u001b[49m\u001b[43m,\u001b[49m\u001b[43m \u001b[49m\u001b[43mseed\u001b[49m\u001b[38;5;241;43m=\u001b[39;49m\u001b[43mseed\u001b[49m\u001b[43m,\u001b[49m\u001b[43m \u001b[49m\u001b[43merrorbar\u001b[49m\u001b[38;5;241;43m=\u001b[39;49m\u001b[43merrorbar\u001b[49m\u001b[43m,\u001b[49m\n\u001b[1;32m    491\u001b[0m \u001b[43m        \u001b[49m\u001b[43msort\u001b[49m\u001b[38;5;241;43m=\u001b[39;49m\u001b[43msort\u001b[49m\u001b[43m,\u001b[49m\u001b[43m \u001b[49m\u001b[43morient\u001b[49m\u001b[38;5;241;43m=\u001b[39;49m\u001b[43morient\u001b[49m\u001b[43m,\u001b[49m\u001b[43m \u001b[49m\u001b[43merr_style\u001b[49m\u001b[38;5;241;43m=\u001b[39;49m\u001b[43merr_style\u001b[49m\u001b[43m,\u001b[49m\u001b[43m \u001b[49m\u001b[43merr_kws\u001b[49m\u001b[38;5;241;43m=\u001b[39;49m\u001b[43merr_kws\u001b[49m\u001b[43m,\u001b[49m\n\u001b[1;32m    492\u001b[0m \u001b[43m        \u001b[49m\u001b[43mlegend\u001b[49m\u001b[38;5;241;43m=\u001b[39;49m\u001b[43mlegend\u001b[49m\u001b[43m,\u001b[49m\n\u001b[1;32m    493\u001b[0m \u001b[43m    \u001b[49m\u001b[43m)\u001b[49m\n\u001b[1;32m    495\u001b[0m     p\u001b[38;5;241m.\u001b[39mmap_hue(palette\u001b[38;5;241m=\u001b[39mpalette, order\u001b[38;5;241m=\u001b[39mhue_order, norm\u001b[38;5;241m=\u001b[39mhue_norm)\n\u001b[1;32m    496\u001b[0m     p\u001b[38;5;241m.\u001b[39mmap_size(sizes\u001b[38;5;241m=\u001b[39msizes, order\u001b[38;5;241m=\u001b[39msize_order, norm\u001b[38;5;241m=\u001b[39msize_norm)\n",
            "File \u001b[0;32m~/anaconda3/envs/pinn_ibm4fsi/lib/python3.10/site-packages/seaborn/relational.py:216\u001b[0m, in \u001b[0;36m_LinePlotter.__init__\u001b[0;34m(self, data, variables, estimator, n_boot, seed, errorbar, sort, orient, err_style, err_kws, legend)\u001b[0m\n\u001b[1;32m    202\u001b[0m \u001b[38;5;28;01mdef\u001b[39;00m\u001b[38;5;250m \u001b[39m\u001b[38;5;21m__init__\u001b[39m(\n\u001b[1;32m    203\u001b[0m     \u001b[38;5;28mself\u001b[39m, \u001b[38;5;241m*\u001b[39m,\n\u001b[1;32m    204\u001b[0m     data\u001b[38;5;241m=\u001b[39m\u001b[38;5;28;01mNone\u001b[39;00m, variables\u001b[38;5;241m=\u001b[39m{},\n\u001b[0;32m   (...)\u001b[0m\n\u001b[1;32m    210\u001b[0m     \u001b[38;5;66;03m# the kind of plot to draw, but for the time being we need to set\u001b[39;00m\n\u001b[1;32m    211\u001b[0m     \u001b[38;5;66;03m# this information so the SizeMapping can use it\u001b[39;00m\n\u001b[1;32m    212\u001b[0m     \u001b[38;5;28mself\u001b[39m\u001b[38;5;241m.\u001b[39m_default_size_range \u001b[38;5;241m=\u001b[39m (\n\u001b[1;32m    213\u001b[0m         np\u001b[38;5;241m.\u001b[39mr_[\u001b[38;5;241m.5\u001b[39m, \u001b[38;5;241m2\u001b[39m] \u001b[38;5;241m*\u001b[39m mpl\u001b[38;5;241m.\u001b[39mrcParams[\u001b[38;5;124m\"\u001b[39m\u001b[38;5;124mlines.linewidth\u001b[39m\u001b[38;5;124m\"\u001b[39m]\n\u001b[1;32m    214\u001b[0m     )\n\u001b[0;32m--> 216\u001b[0m     \u001b[38;5;28;43msuper\u001b[39;49m\u001b[43m(\u001b[49m\u001b[43m)\u001b[49m\u001b[38;5;241;43m.\u001b[39;49m\u001b[38;5;21;43m__init__\u001b[39;49m\u001b[43m(\u001b[49m\u001b[43mdata\u001b[49m\u001b[38;5;241;43m=\u001b[39;49m\u001b[43mdata\u001b[49m\u001b[43m,\u001b[49m\u001b[43m \u001b[49m\u001b[43mvariables\u001b[49m\u001b[38;5;241;43m=\u001b[39;49m\u001b[43mvariables\u001b[49m\u001b[43m)\u001b[49m\n\u001b[1;32m    218\u001b[0m     \u001b[38;5;28mself\u001b[39m\u001b[38;5;241m.\u001b[39mestimator \u001b[38;5;241m=\u001b[39m estimator\n\u001b[1;32m    219\u001b[0m     \u001b[38;5;28mself\u001b[39m\u001b[38;5;241m.\u001b[39merrorbar \u001b[38;5;241m=\u001b[39m errorbar\n",
            "File \u001b[0;32m~/anaconda3/envs/pinn_ibm4fsi/lib/python3.10/site-packages/seaborn/_base.py:634\u001b[0m, in \u001b[0;36mVectorPlotter.__init__\u001b[0;34m(self, data, variables)\u001b[0m\n\u001b[1;32m    629\u001b[0m \u001b[38;5;66;03m# var_ordered is relevant only for categorical axis variables, and may\u001b[39;00m\n\u001b[1;32m    630\u001b[0m \u001b[38;5;66;03m# be better handled by an internal axis information object that tracks\u001b[39;00m\n\u001b[1;32m    631\u001b[0m \u001b[38;5;66;03m# such information and is set up by the scale_* methods. The analogous\u001b[39;00m\n\u001b[1;32m    632\u001b[0m \u001b[38;5;66;03m# information for numeric axes would be information about log scales.\u001b[39;00m\n\u001b[1;32m    633\u001b[0m \u001b[38;5;28mself\u001b[39m\u001b[38;5;241m.\u001b[39m_var_ordered \u001b[38;5;241m=\u001b[39m {\u001b[38;5;124m\"\u001b[39m\u001b[38;5;124mx\u001b[39m\u001b[38;5;124m\"\u001b[39m: \u001b[38;5;28;01mFalse\u001b[39;00m, \u001b[38;5;124m\"\u001b[39m\u001b[38;5;124my\u001b[39m\u001b[38;5;124m\"\u001b[39m: \u001b[38;5;28;01mFalse\u001b[39;00m}  \u001b[38;5;66;03m# alt., used DefaultDict\u001b[39;00m\n\u001b[0;32m--> 634\u001b[0m \u001b[38;5;28;43mself\u001b[39;49m\u001b[38;5;241;43m.\u001b[39;49m\u001b[43massign_variables\u001b[49m\u001b[43m(\u001b[49m\u001b[43mdata\u001b[49m\u001b[43m,\u001b[49m\u001b[43m \u001b[49m\u001b[43mvariables\u001b[49m\u001b[43m)\u001b[49m\n\u001b[1;32m    636\u001b[0m \u001b[38;5;66;03m# TODO Lots of tests assume that these are called to initialize the\u001b[39;00m\n\u001b[1;32m    637\u001b[0m \u001b[38;5;66;03m# mappings to default values on class initialization. I'd prefer to\u001b[39;00m\n\u001b[1;32m    638\u001b[0m \u001b[38;5;66;03m# move away from that and only have a mapping when explicitly called.\u001b[39;00m\n\u001b[1;32m    639\u001b[0m \u001b[38;5;28;01mfor\u001b[39;00m var \u001b[38;5;129;01min\u001b[39;00m [\u001b[38;5;124m\"\u001b[39m\u001b[38;5;124mhue\u001b[39m\u001b[38;5;124m\"\u001b[39m, \u001b[38;5;124m\"\u001b[39m\u001b[38;5;124msize\u001b[39m\u001b[38;5;124m\"\u001b[39m, \u001b[38;5;124m\"\u001b[39m\u001b[38;5;124mstyle\u001b[39m\u001b[38;5;124m\"\u001b[39m]:\n",
            "File \u001b[0;32m~/anaconda3/envs/pinn_ibm4fsi/lib/python3.10/site-packages/seaborn/_base.py:679\u001b[0m, in \u001b[0;36mVectorPlotter.assign_variables\u001b[0;34m(self, data, variables)\u001b[0m\n\u001b[1;32m    674\u001b[0m \u001b[38;5;28;01melse\u001b[39;00m:\n\u001b[1;32m    675\u001b[0m     \u001b[38;5;66;03m# When dealing with long-form input, use the newer PlotData\u001b[39;00m\n\u001b[1;32m    676\u001b[0m     \u001b[38;5;66;03m# object (internal but introduced for the objects interface)\u001b[39;00m\n\u001b[1;32m    677\u001b[0m     \u001b[38;5;66;03m# to centralize / standardize data consumption logic.\u001b[39;00m\n\u001b[1;32m    678\u001b[0m     \u001b[38;5;28mself\u001b[39m\u001b[38;5;241m.\u001b[39minput_format \u001b[38;5;241m=\u001b[39m \u001b[38;5;124m\"\u001b[39m\u001b[38;5;124mlong\u001b[39m\u001b[38;5;124m\"\u001b[39m\n\u001b[0;32m--> 679\u001b[0m     plot_data \u001b[38;5;241m=\u001b[39m \u001b[43mPlotData\u001b[49m\u001b[43m(\u001b[49m\u001b[43mdata\u001b[49m\u001b[43m,\u001b[49m\u001b[43m \u001b[49m\u001b[43mvariables\u001b[49m\u001b[43m)\u001b[49m\n\u001b[1;32m    680\u001b[0m     frame \u001b[38;5;241m=\u001b[39m plot_data\u001b[38;5;241m.\u001b[39mframe\n\u001b[1;32m    681\u001b[0m     names \u001b[38;5;241m=\u001b[39m plot_data\u001b[38;5;241m.\u001b[39mnames\n",
            "File \u001b[0;32m~/anaconda3/envs/pinn_ibm4fsi/lib/python3.10/site-packages/seaborn/_core/data.py:58\u001b[0m, in \u001b[0;36mPlotData.__init__\u001b[0;34m(self, data, variables)\u001b[0m\n\u001b[1;32m     51\u001b[0m \u001b[38;5;28;01mdef\u001b[39;00m\u001b[38;5;250m \u001b[39m\u001b[38;5;21m__init__\u001b[39m(\n\u001b[1;32m     52\u001b[0m     \u001b[38;5;28mself\u001b[39m,\n\u001b[1;32m     53\u001b[0m     data: DataSource,\n\u001b[1;32m     54\u001b[0m     variables: \u001b[38;5;28mdict\u001b[39m[\u001b[38;5;28mstr\u001b[39m, VariableSpec],\n\u001b[1;32m     55\u001b[0m ):\n\u001b[1;32m     57\u001b[0m     data \u001b[38;5;241m=\u001b[39m handle_data_source(data)\n\u001b[0;32m---> 58\u001b[0m     frame, names, ids \u001b[38;5;241m=\u001b[39m \u001b[38;5;28;43mself\u001b[39;49m\u001b[38;5;241;43m.\u001b[39;49m\u001b[43m_assign_variables\u001b[49m\u001b[43m(\u001b[49m\u001b[43mdata\u001b[49m\u001b[43m,\u001b[49m\u001b[43m \u001b[49m\u001b[43mvariables\u001b[49m\u001b[43m)\u001b[49m\n\u001b[1;32m     60\u001b[0m     \u001b[38;5;28mself\u001b[39m\u001b[38;5;241m.\u001b[39mframe \u001b[38;5;241m=\u001b[39m frame\n\u001b[1;32m     61\u001b[0m     \u001b[38;5;28mself\u001b[39m\u001b[38;5;241m.\u001b[39mnames \u001b[38;5;241m=\u001b[39m names\n",
            "File \u001b[0;32m~/anaconda3/envs/pinn_ibm4fsi/lib/python3.10/site-packages/seaborn/_core/data.py:265\u001b[0m, in \u001b[0;36mPlotData._assign_variables\u001b[0;34m(self, data, variables)\u001b[0m\n\u001b[1;32m    260\u001b[0m             ids[key] \u001b[38;5;241m=\u001b[39m \u001b[38;5;28mid\u001b[39m(val)\n\u001b[1;32m    262\u001b[0m \u001b[38;5;66;03m# Construct a tidy plot DataFrame. This will convert a number of\u001b[39;00m\n\u001b[1;32m    263\u001b[0m \u001b[38;5;66;03m# types automatically, aligning on index in case of pandas objects\u001b[39;00m\n\u001b[1;32m    264\u001b[0m \u001b[38;5;66;03m# TODO Note: this fails when variable specs *only* have scalars!\u001b[39;00m\n\u001b[0;32m--> 265\u001b[0m frame \u001b[38;5;241m=\u001b[39m \u001b[43mpd\u001b[49m\u001b[38;5;241;43m.\u001b[39;49m\u001b[43mDataFrame\u001b[49m\u001b[43m(\u001b[49m\u001b[43mplot_data\u001b[49m\u001b[43m)\u001b[49m\n\u001b[1;32m    267\u001b[0m \u001b[38;5;28;01mreturn\u001b[39;00m frame, names, ids\n",
            "File \u001b[0;32m~/anaconda3/envs/pinn_ibm4fsi/lib/python3.10/site-packages/pandas/core/frame.py:778\u001b[0m, in \u001b[0;36mDataFrame.__init__\u001b[0;34m(self, data, index, columns, dtype, copy)\u001b[0m\n\u001b[1;32m    772\u001b[0m     mgr \u001b[38;5;241m=\u001b[39m \u001b[38;5;28mself\u001b[39m\u001b[38;5;241m.\u001b[39m_init_mgr(\n\u001b[1;32m    773\u001b[0m         data, axes\u001b[38;5;241m=\u001b[39m{\u001b[38;5;124m\"\u001b[39m\u001b[38;5;124mindex\u001b[39m\u001b[38;5;124m\"\u001b[39m: index, \u001b[38;5;124m\"\u001b[39m\u001b[38;5;124mcolumns\u001b[39m\u001b[38;5;124m\"\u001b[39m: columns}, dtype\u001b[38;5;241m=\u001b[39mdtype, copy\u001b[38;5;241m=\u001b[39mcopy\n\u001b[1;32m    774\u001b[0m     )\n\u001b[1;32m    776\u001b[0m \u001b[38;5;28;01melif\u001b[39;00m \u001b[38;5;28misinstance\u001b[39m(data, \u001b[38;5;28mdict\u001b[39m):\n\u001b[1;32m    777\u001b[0m     \u001b[38;5;66;03m# GH#38939 de facto copy defaults to False only in non-dict cases\u001b[39;00m\n\u001b[0;32m--> 778\u001b[0m     mgr \u001b[38;5;241m=\u001b[39m \u001b[43mdict_to_mgr\u001b[49m\u001b[43m(\u001b[49m\u001b[43mdata\u001b[49m\u001b[43m,\u001b[49m\u001b[43m \u001b[49m\u001b[43mindex\u001b[49m\u001b[43m,\u001b[49m\u001b[43m \u001b[49m\u001b[43mcolumns\u001b[49m\u001b[43m,\u001b[49m\u001b[43m \u001b[49m\u001b[43mdtype\u001b[49m\u001b[38;5;241;43m=\u001b[39;49m\u001b[43mdtype\u001b[49m\u001b[43m,\u001b[49m\u001b[43m \u001b[49m\u001b[43mcopy\u001b[49m\u001b[38;5;241;43m=\u001b[39;49m\u001b[43mcopy\u001b[49m\u001b[43m,\u001b[49m\u001b[43m \u001b[49m\u001b[43mtyp\u001b[49m\u001b[38;5;241;43m=\u001b[39;49m\u001b[43mmanager\u001b[49m\u001b[43m)\u001b[49m\n\u001b[1;32m    779\u001b[0m \u001b[38;5;28;01melif\u001b[39;00m \u001b[38;5;28misinstance\u001b[39m(data, ma\u001b[38;5;241m.\u001b[39mMaskedArray):\n\u001b[1;32m    780\u001b[0m     \u001b[38;5;28;01mfrom\u001b[39;00m\u001b[38;5;250m \u001b[39m\u001b[38;5;21;01mnumpy\u001b[39;00m\u001b[38;5;21;01m.\u001b[39;00m\u001b[38;5;21;01mma\u001b[39;00m\u001b[38;5;250m \u001b[39m\u001b[38;5;28;01mimport\u001b[39;00m mrecords\n",
            "File \u001b[0;32m~/anaconda3/envs/pinn_ibm4fsi/lib/python3.10/site-packages/pandas/core/internals/construction.py:503\u001b[0m, in \u001b[0;36mdict_to_mgr\u001b[0;34m(data, index, columns, dtype, typ, copy)\u001b[0m\n\u001b[1;32m    499\u001b[0m     \u001b[38;5;28;01melse\u001b[39;00m:\n\u001b[1;32m    500\u001b[0m         \u001b[38;5;66;03m# dtype check to exclude e.g. range objects, scalars\u001b[39;00m\n\u001b[1;32m    501\u001b[0m         arrays \u001b[38;5;241m=\u001b[39m [x\u001b[38;5;241m.\u001b[39mcopy() \u001b[38;5;28;01mif\u001b[39;00m \u001b[38;5;28mhasattr\u001b[39m(x, \u001b[38;5;124m\"\u001b[39m\u001b[38;5;124mdtype\u001b[39m\u001b[38;5;124m\"\u001b[39m) \u001b[38;5;28;01melse\u001b[39;00m x \u001b[38;5;28;01mfor\u001b[39;00m x \u001b[38;5;129;01min\u001b[39;00m arrays]\n\u001b[0;32m--> 503\u001b[0m \u001b[38;5;28;01mreturn\u001b[39;00m \u001b[43marrays_to_mgr\u001b[49m\u001b[43m(\u001b[49m\u001b[43marrays\u001b[49m\u001b[43m,\u001b[49m\u001b[43m \u001b[49m\u001b[43mcolumns\u001b[49m\u001b[43m,\u001b[49m\u001b[43m \u001b[49m\u001b[43mindex\u001b[49m\u001b[43m,\u001b[49m\u001b[43m \u001b[49m\u001b[43mdtype\u001b[49m\u001b[38;5;241;43m=\u001b[39;49m\u001b[43mdtype\u001b[49m\u001b[43m,\u001b[49m\u001b[43m \u001b[49m\u001b[43mtyp\u001b[49m\u001b[38;5;241;43m=\u001b[39;49m\u001b[43mtyp\u001b[49m\u001b[43m,\u001b[49m\u001b[43m \u001b[49m\u001b[43mconsolidate\u001b[49m\u001b[38;5;241;43m=\u001b[39;49m\u001b[43mcopy\u001b[49m\u001b[43m)\u001b[49m\n",
            "File \u001b[0;32m~/anaconda3/envs/pinn_ibm4fsi/lib/python3.10/site-packages/pandas/core/internals/construction.py:119\u001b[0m, in \u001b[0;36marrays_to_mgr\u001b[0;34m(arrays, columns, index, dtype, verify_integrity, typ, consolidate)\u001b[0m\n\u001b[1;32m    116\u001b[0m         index \u001b[38;5;241m=\u001b[39m ensure_index(index)\n\u001b[1;32m    118\u001b[0m     \u001b[38;5;66;03m# don't force copy because getting jammed in an ndarray anyway\u001b[39;00m\n\u001b[0;32m--> 119\u001b[0m     arrays, refs \u001b[38;5;241m=\u001b[39m \u001b[43m_homogenize\u001b[49m\u001b[43m(\u001b[49m\u001b[43marrays\u001b[49m\u001b[43m,\u001b[49m\u001b[43m \u001b[49m\u001b[43mindex\u001b[49m\u001b[43m,\u001b[49m\u001b[43m \u001b[49m\u001b[43mdtype\u001b[49m\u001b[43m)\u001b[49m\n\u001b[1;32m    120\u001b[0m     \u001b[38;5;66;03m# _homogenize ensures\u001b[39;00m\n\u001b[1;32m    121\u001b[0m     \u001b[38;5;66;03m#  - all(len(x) == len(index) for x in arrays)\u001b[39;00m\n\u001b[1;32m    122\u001b[0m     \u001b[38;5;66;03m#  - all(x.ndim == 1 for x in arrays)\u001b[39;00m\n\u001b[0;32m   (...)\u001b[0m\n\u001b[1;32m    125\u001b[0m \n\u001b[1;32m    126\u001b[0m \u001b[38;5;28;01melse\u001b[39;00m:\n\u001b[1;32m    127\u001b[0m     index \u001b[38;5;241m=\u001b[39m ensure_index(index)\n",
            "File \u001b[0;32m~/anaconda3/envs/pinn_ibm4fsi/lib/python3.10/site-packages/pandas/core/internals/construction.py:629\u001b[0m, in \u001b[0;36m_homogenize\u001b[0;34m(data, index, dtype)\u001b[0m\n\u001b[1;32m    626\u001b[0m         val \u001b[38;5;241m=\u001b[39m \u001b[38;5;28mdict\u001b[39m(val)\n\u001b[1;32m    627\u001b[0m     val \u001b[38;5;241m=\u001b[39m lib\u001b[38;5;241m.\u001b[39mfast_multiget(val, oindex\u001b[38;5;241m.\u001b[39m_values, default\u001b[38;5;241m=\u001b[39mnp\u001b[38;5;241m.\u001b[39mnan)\n\u001b[0;32m--> 629\u001b[0m val \u001b[38;5;241m=\u001b[39m \u001b[43msanitize_array\u001b[49m\u001b[43m(\u001b[49m\u001b[43mval\u001b[49m\u001b[43m,\u001b[49m\u001b[43m \u001b[49m\u001b[43mindex\u001b[49m\u001b[43m,\u001b[49m\u001b[43m \u001b[49m\u001b[43mdtype\u001b[49m\u001b[38;5;241;43m=\u001b[39;49m\u001b[43mdtype\u001b[49m\u001b[43m,\u001b[49m\u001b[43m \u001b[49m\u001b[43mcopy\u001b[49m\u001b[38;5;241;43m=\u001b[39;49m\u001b[38;5;28;43;01mFalse\u001b[39;49;00m\u001b[43m)\u001b[49m\n\u001b[1;32m    630\u001b[0m com\u001b[38;5;241m.\u001b[39mrequire_length_match(val, index)\n\u001b[1;32m    631\u001b[0m refs\u001b[38;5;241m.\u001b[39mappend(\u001b[38;5;28;01mNone\u001b[39;00m)\n",
            "File \u001b[0;32m~/anaconda3/envs/pinn_ibm4fsi/lib/python3.10/site-packages/pandas/core/construction.py:654\u001b[0m, in \u001b[0;36msanitize_array\u001b[0;34m(data, index, dtype, copy, allow_2d)\u001b[0m\n\u001b[1;32m    651\u001b[0m     subarr \u001b[38;5;241m=\u001b[39m _try_cast(data, dtype, copy)\n\u001b[1;32m    653\u001b[0m \u001b[38;5;28;01melse\u001b[39;00m:\n\u001b[0;32m--> 654\u001b[0m     subarr \u001b[38;5;241m=\u001b[39m \u001b[43mmaybe_convert_platform\u001b[49m\u001b[43m(\u001b[49m\u001b[43mdata\u001b[49m\u001b[43m)\u001b[49m\n\u001b[1;32m    655\u001b[0m     \u001b[38;5;28;01mif\u001b[39;00m subarr\u001b[38;5;241m.\u001b[39mdtype \u001b[38;5;241m==\u001b[39m \u001b[38;5;28mobject\u001b[39m:\n\u001b[1;32m    656\u001b[0m         subarr \u001b[38;5;241m=\u001b[39m cast(np\u001b[38;5;241m.\u001b[39mndarray, subarr)\n",
            "File \u001b[0;32m~/anaconda3/envs/pinn_ibm4fsi/lib/python3.10/site-packages/pandas/core/dtypes/cast.py:130\u001b[0m, in \u001b[0;36mmaybe_convert_platform\u001b[0;34m(values)\u001b[0m\n\u001b[1;32m    127\u001b[0m arr: ArrayLike\n\u001b[1;32m    129\u001b[0m \u001b[38;5;28;01mif\u001b[39;00m \u001b[38;5;28misinstance\u001b[39m(values, (\u001b[38;5;28mlist\u001b[39m, \u001b[38;5;28mtuple\u001b[39m, \u001b[38;5;28mrange\u001b[39m)):\n\u001b[0;32m--> 130\u001b[0m     arr \u001b[38;5;241m=\u001b[39m \u001b[43mconstruct_1d_object_array_from_listlike\u001b[49m\u001b[43m(\u001b[49m\u001b[43mvalues\u001b[49m\u001b[43m)\u001b[49m\n\u001b[1;32m    131\u001b[0m \u001b[38;5;28;01melse\u001b[39;00m:\n\u001b[1;32m    132\u001b[0m     \u001b[38;5;66;03m# The caller is responsible for ensuring that we have np.ndarray\u001b[39;00m\n\u001b[1;32m    133\u001b[0m     \u001b[38;5;66;03m#  or ExtensionArray here.\u001b[39;00m\n\u001b[1;32m    134\u001b[0m     arr \u001b[38;5;241m=\u001b[39m values\n",
            "File \u001b[0;32m~/anaconda3/envs/pinn_ibm4fsi/lib/python3.10/site-packages/pandas/core/dtypes/cast.py:1600\u001b[0m, in \u001b[0;36mconstruct_1d_object_array_from_listlike\u001b[0;34m(values)\u001b[0m\n\u001b[1;32m   1597\u001b[0m \u001b[38;5;66;03m# numpy will try to interpret nested lists as further dimensions, hence\u001b[39;00m\n\u001b[1;32m   1598\u001b[0m \u001b[38;5;66;03m# making a 1D array that contains list-likes is a bit tricky:\u001b[39;00m\n\u001b[1;32m   1599\u001b[0m result \u001b[38;5;241m=\u001b[39m np\u001b[38;5;241m.\u001b[39mempty(\u001b[38;5;28mlen\u001b[39m(values), dtype\u001b[38;5;241m=\u001b[39m\u001b[38;5;124m\"\u001b[39m\u001b[38;5;124mobject\u001b[39m\u001b[38;5;124m\"\u001b[39m)\n\u001b[0;32m-> 1600\u001b[0m \u001b[43mresult\u001b[49m\u001b[43m[\u001b[49m\u001b[43m:\u001b[49m\u001b[43m]\u001b[49m \u001b[38;5;241m=\u001b[39m values\n\u001b[1;32m   1601\u001b[0m \u001b[38;5;28;01mreturn\u001b[39;00m result\n",
            "File \u001b[0;32m~/anaconda3/envs/pinn_ibm4fsi/lib/python3.10/site-packages/torch/_tensor.py:1089\u001b[0m, in \u001b[0;36mTensor.__array__\u001b[0;34m(self, dtype)\u001b[0m\n\u001b[1;32m   1087\u001b[0m     \u001b[38;5;28;01mreturn\u001b[39;00m \u001b[38;5;28mself\u001b[39m\u001b[38;5;241m.\u001b[39mnumpy()\n\u001b[1;32m   1088\u001b[0m \u001b[38;5;28;01melse\u001b[39;00m:\n\u001b[0;32m-> 1089\u001b[0m     \u001b[38;5;28;01mreturn\u001b[39;00m \u001b[38;5;28;43mself\u001b[39;49m\u001b[38;5;241;43m.\u001b[39;49m\u001b[43mnumpy\u001b[49m\u001b[43m(\u001b[49m\u001b[43m)\u001b[49m\u001b[38;5;241m.\u001b[39mastype(dtype, copy\u001b[38;5;241m=\u001b[39m\u001b[38;5;28;01mFalse\u001b[39;00m)\n",
            "\u001b[0;31mTypeError\u001b[0m: can't convert cuda:0 device type tensor to numpy. Use Tensor.cpu() to copy the tensor to host memory first."
          ]
        },
        {
          "data": {
            "image/png": "[encoded data removed]",
            "text/plain": [
              "<Figure size 1600x350 with 3 Axes>"
            ]
          },
          "metadata": {},
          "output_type": "display_data"
        }
      ],
      "source": [
        "fig, ax = plt.subplots(1, 3)\n",
        "fig.set_size_inches([16, 3.5])  # Adjusted figure size\n",
        "dict_list = [\n",
        "    trace_jacobian_bc_log_dic,\n",
        "    trace_jacobian_ic_log_dic,\n",
        "    trace_jacobian_res_log_dic,\n",
        "]\n",
        "lines = []  # List to collect Line2D objects for the legend\n",
        "labels = []  # List to collect corresponding labels\n",
        "\n",
        "for index in range(len(dict_list)):\n",
        "    data_list = [\n",
        "        # {\n",
        "        #     \"data\": dict_list[index][\"bspline\"],\n",
        "        #     \"color\": model_color[\"bspline\"],\n",
        "        #     \"name\": \"B-spline\",\n",
        "        #     \"alpha\": 1.0,\n",
        "        # },\n",
        "        {\n",
        "            \"data\": dict_list[index][\"tanh\"],\n",
        "            \"color\": model_color[\"tanh\"],\n",
        "            \"name\": \"Tanh\",\n",
        "            \"alpha\": 1.0,\n",
        "        },\n",
        "        # {\n",
        "        #     \"data\": dict_list[index][\"grbf\"],\n",
        "        #     \"color\": model_color[\"grbf\"],\n",
        "        #     \"name\": \"GRBF\",\n",
        "        #     \"alpha\": 1.0,\n",
        "        # },\n",
        "        # {\n",
        "        #     \"data\": dict_list[index][\"fourier\"],\n",
        "        #     \"color\": model_color[\"fourier\"],\n",
        "        #     \"name\": \"Fourier\",\n",
        "        #     \"alpha\": 1.0,\n",
        "        # },\n",
        "        # {\n",
        "        #     \"data\": dict_list[index][\"param_tanh\"],\n",
        "        #     \"color\": model_color[\"param_tanh\"],\n",
        "        #     \"name\": \"parametric-Tanh\",\n",
        "        #     \"alpha\": 1.0,\n",
        "        # },\n",
        "        # {\n",
        "        #     \"data\": dict_list[index][\"chebyshev\"],\n",
        "        #     \"color\": model_color[\"chebyshev\"],\n",
        "        #     \"name\": \"Chebyshev\",\n",
        "        #     \"alpha\": 1.0,\n",
        "        # },\n",
        "        # {\n",
        "        #     \"data\": dict_list[index][\"jacobi\"],\n",
        "        #     \"color\": model_color[\"jacobi\"],\n",
        "        #     \"name\": \"Jacobi\",\n",
        "        #     \"alpha\": 1.0,\n",
        "        # },\n",
        "    ]\n",
        "\n",
        "    plot_spectral(ax[index], data_list)\n",
        "\n",
        "for line in ax[-1].get_lines():\n",
        "    lines.append(line)\n",
        "    labels.append(line.get_label())\n",
        "\n",
        "save_path = os.path.join(logger.get_output_dir(), \"spectral_cavity.png\")\n",
        "\n",
        "legend = fig.legend(\n",
        "    lines, labels, loc=\"upper center\", bbox_to_anchor=(0.5, 1.1), ncol=7\n",
        ")\n",
        "legend.get_frame().set_facecolor(\"white\")\n",
        "\n",
        "plt.tight_layout()\n",
        "plt.savefig(save_path)"
      ]
    }
  ],
  "metadata": {
    "kernelspec": {
      "display_name": "pinn_ibm4fsi",
      "language": "python",
      "name": "python3"
    },
    "language_info": {
      "codemirror_mode": {
        "name": "ipython",
        "version": 3
      },
      "file_extension": ".py",
      "mimetype": "text/x-python",
      "name": "python",
      "nbconvert_exporter": "python",
      "pygments_lexer": "ipython3",
      "version": "3.10.16"
    }
  },
  "nbformat": 4,
  "nbformat_minor": 2
}
